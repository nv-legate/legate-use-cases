{
 "cells": [
  {
   "cell_type": "code",
   "execution_count": 1,
   "id": "ea147590-a27e-44c6-bc05-98ffd032a351",
   "metadata": {},
   "outputs": [],
   "source": [
    "%matplotlib inline"
   ]
  },
  {
   "cell_type": "code",
   "execution_count": 2,
   "id": "928428c4-5006-46e7-b2f7-302c0726fbb1",
   "metadata": {},
   "outputs": [],
   "source": [
    "from sklearn.svm import SVC\n",
    "from sklearn.model_selection import StratifiedKFold, train_test_split\n",
    "from sklearn.feature_selection import RFECV\n",
    "from sklearn.preprocessing import MinMaxScaler\n",
    "from sklearn.model_selection import cross_val_score\n",
    "\n",
    "import numpy as np"
   ]
  },
  {
   "cell_type": "markdown",
   "id": "7759d06b-3d05-42eb-9248-1c9afddbc6b3",
   "metadata": {},
   "source": [
    "## Generate Data\n",
    "\n",
    "Normally we would load data from file, but let's just use `sklearn`'s `make_classification` data generator for now."
   ]
  },
  {
   "cell_type": "code",
   "execution_count": 3,
   "id": "d0a71f79-46f1-4a00-aeab-974d22403314",
   "metadata": {},
   "outputs": [
    {
     "data": {
      "text/plain": [
       "array([[-0.27126113,  1.88663904,  0.4257523 , ...,  0.55820327,\n",
       "        -0.54562849,  0.12710617],\n",
       "       [-2.06947249,  1.72056896, -0.64016106, ..., -0.76494431,\n",
       "        -1.57471131, -0.04753333],\n",
       "       [-0.20769822, -0.33284919,  1.37265908, ...,  0.03917614,\n",
       "         0.22502891,  0.90827225],\n",
       "       ...,\n",
       "       [ 1.07282353, -0.52578537, -0.87981073, ..., -1.6101395 ,\n",
       "         0.14297433, -0.50581888],\n",
       "       [-0.48323585,  0.89892743,  0.00704613, ...,  0.31456258,\n",
       "        -0.41243498, -0.37286792],\n",
       "       [ 0.13317063, -0.52905467,  0.91063537, ..., -1.34877197,\n",
       "         0.63667007, -0.02700027]])"
      ]
     },
     "execution_count": 3,
     "metadata": {},
     "output_type": "execute_result"
    }
   ],
   "source": [
    "from sklearn.datasets import make_classification\n",
    "\n",
    "# Build a classification task using 3 informative features\n",
    "X, y = make_classification(n_samples=1000, n_features=25, n_informative=3,\n",
    "                           n_redundant=2, n_repeated=0, n_classes=8,\n",
    "                           n_clusters_per_class=1, random_state=0)\n",
    "X"
   ]
  },
  {
   "cell_type": "markdown",
   "id": "6924f1c4-f919-4ec0-a005-a9dea282a684",
   "metadata": {},
   "source": [
    "It is important to hold out test data to use below in model evaluation. We don't want any data leakage between our training and testing. `scikit-learn` provides a customizable method for splitting data using indices. "
   ]
  },
  {
   "cell_type": "code",
   "execution_count": 4,
   "id": "af21f4e3-f9c4-4e48-80aa-37c8c9461213",
   "metadata": {},
   "outputs": [
    {
     "name": "stdout",
     "output_type": "stream",
     "text": [
      "(750, 25)\n",
      "(250, 25)\n"
     ]
    }
   ],
   "source": [
    "from sklearn.model_selection import train_test_split\n",
    "\n",
    "X_train, X_test, y_train, y_test = train_test_split(X, y, random_state=0)\n",
    "print(X_train.shape)\n",
    "print(X_test.shape)"
   ]
  },
  {
   "cell_type": "markdown",
   "id": "7fc0fb65-c6fe-48c9-a136-94e156e9b994",
   "metadata": {},
   "source": [
    "## Algorithms "
   ]
  },
  {
   "cell_type": "code",
   "execution_count": 5,
   "id": "8c3186c0-5126-4362-82e0-b36bbfab81ae",
   "metadata": {},
   "outputs": [
    {
     "data": {
      "text/plain": [
       "0.724"
      ]
     },
     "execution_count": 5,
     "metadata": {},
     "output_type": "execute_result"
    }
   ],
   "source": [
    "# compute minimum and maximum on the training data\n",
    "scaler = MinMaxScaler().fit(X_train)\n",
    "# rescale training data\n",
    "X_train_scaled = scaler.transform(X_train)\n",
    "\n",
    "svm = SVC()\n",
    "# learn an SVM on the scaled training data\n",
    "svm.fit(X_train_scaled, y_train)\n",
    "# scale test data and score the scaled data\n",
    "X_test_scaled = scaler.transform(X_test)\n",
    "svm.score(X_test_scaled, y_test)"
   ]
  },
  {
   "cell_type": "code",
   "execution_count": 6,
   "id": "5f7380d7-0f1e-4c78-951c-67f2bb5d16db",
   "metadata": {},
   "outputs": [
    {
     "data": {
      "text/plain": [
       "0.796"
      ]
     },
     "execution_count": 6,
     "metadata": {},
     "output_type": "execute_result"
    }
   ],
   "source": [
    "# compute minimum and maximum on the training data\n",
    "scaler = MinMaxScaler().fit(X_train)\n",
    "# rescale training data\n",
    "X_train_scaled = scaler.transform(X_train)\n",
    "\n",
    "# Create the RFE object and compute a cross-validated score.\n",
    "svc = SVC(kernel=\"linear\")\n",
    "# The \"accuracy\" scoring is proportional to the number of correct\n",
    "# classifications\n",
    "\n",
    "min_features_to_select = 1  # Minimum number of features to consider\n",
    "rfecv = RFECV(estimator=svc, step=1, cv=StratifiedKFold(2),\n",
    "              scoring='accuracy',\n",
    "              min_features_to_select=min_features_to_select)\n",
    "rfecv.fit(X_train_scaled, y_train)\n",
    "\n",
    "# scale test data and score the scaled data\n",
    "X_test_scaled = scaler.transform(X_test)\n",
    "rfecv.score(X_test_scaled, y_test)"
   ]
  },
  {
   "cell_type": "code",
   "execution_count": 7,
   "id": "50d026c6-e84c-450d-8f80-5ea2016225e6",
   "metadata": {},
   "outputs": [
    {
     "data": {
      "text/plain": [
       "0.812"
      ]
     },
     "execution_count": 7,
     "metadata": {},
     "output_type": "execute_result"
    }
   ],
   "source": [
    "np.mean(cross_val_score(rfecv, X_train,  y_train, cv=StratifiedKFold(2)))"
   ]
  },
  {
   "cell_type": "code",
   "execution_count": 8,
   "id": "3dd514d4-7463-40eb-a717-cbb100390656",
   "metadata": {},
   "outputs": [
    {
     "data": {
      "image/png": "[encoded data removed]",
      "text/plain": [
       "<Figure size 432x288 with 1 Axes>"
      ]
     },
     "metadata": {
      "needs_background": "light"
     },
     "output_type": "display_data"
    }
   ],
   "source": [
    "import matplotlib.pyplot as plt\n",
    "\n",
    "# Plot number of features VS. cross-validation scores\n",
    "plt.figure()\n",
    "plt.xlabel(\"Number of features selected\")\n",
    "plt.ylabel(\"Cross validation score (nb of correct classifications)\")\n",
    "plt.plot(range(min_features_to_select,\n",
    "               len(rfecv.grid_scores_) + min_features_to_select),\n",
    "         rfecv.grid_scores_)\n",
    "plt.show()"
   ]
  },
  {
   "cell_type": "markdown",
   "id": "46912fe9-ffda-463f-bf6e-7492d6941a17",
   "metadata": {},
   "source": [
    "## Building Pipelines\n",
    "\n",
    "Using `scikit-learn` transformers consistently is often error prone. Pipelines are used to ensure consistency and prevent data leakage. Below we add preprocessing steps to improve model performance."
   ]
  },
  {
   "cell_type": "code",
   "execution_count": 9,
   "id": "358ba213-3c3f-4293-8338-c8efb88d7bb0",
   "metadata": {},
   "outputs": [],
   "source": [
    "from sklearn.pipeline import Pipeline, make_pipeline\n",
    "from sklearn.linear_model import RidgeCV\n",
    "from sklearn.preprocessing import PolynomialFeatures, StandardScaler"
   ]
  },
  {
   "cell_type": "code",
   "execution_count": 10,
   "id": "679de17b-8196-40b3-8bcb-9a0459595c6c",
   "metadata": {},
   "outputs": [
    {
     "data": {
      "text/plain": [
       "0.8093333333333333"
      ]
     },
     "execution_count": 10,
     "metadata": {},
     "output_type": "execute_result"
    }
   ],
   "source": [
    "rfecv = RFECV(estimator=SVC(kernel='linear'), step=1, cv=StratifiedKFold(2),\n",
    "              scoring='accuracy',\n",
    "              min_features_to_select=min_features_to_select)\n",
    "pipe = make_pipeline(StandardScaler(), rfecv)\n",
    "\n",
    "np.mean(cross_val_score(pipe, X_train, y_train, cv=StratifiedKFold(2)))"
   ]
  },
  {
   "cell_type": "code",
   "execution_count": 11,
   "id": "8a62f175-e46c-46a8-84a0-54e7a8e33312",
   "metadata": {},
   "outputs": [
    {
     "data": {
      "text/plain": [
       "0.8133333333333334"
      ]
     },
     "execution_count": 11,
     "metadata": {},
     "output_type": "execute_result"
    }
   ],
   "source": [
    "pipe = make_pipeline(StandardScaler(), PolynomialFeatures(), rfecv)\n",
    "np.mean(cross_val_score(pipe, X_train, y_train, cv=StratifiedKFold(2)))"
   ]
  },
  {
   "cell_type": "code",
   "execution_count": 12,
   "id": "5ee6d788-7168-4ae3-8cfd-0a357b42d864",
   "metadata": {},
   "outputs": [
    {
     "data": {
      "text/plain": [
       "0.844"
      ]
     },
     "execution_count": 12,
     "metadata": {},
     "output_type": "execute_result"
    }
   ],
   "source": [
    "pipe.fit(X_train, y_train)\n",
    "pipe.score(X_test, y_test)"
   ]
  },
  {
   "cell_type": "markdown",
   "id": "4de6369d-8869-4123-8c0c-eaa011ac2879",
   "metadata": {},
   "source": [
    "## Using Pipelines in Grid Searches"
   ]
  },
  {
   "cell_type": "code",
   "execution_count": 13,
   "id": "ca65312c-abca-47ba-800f-91cd59d96e7d",
   "metadata": {},
   "outputs": [],
   "source": [
    "from sklearn.model_selection import GridSearchCV"
   ]
  },
  {
   "cell_type": "code",
   "execution_count": 14,
   "id": "051ec46e-3a2a-482a-b47c-cfe2d71fa029",
   "metadata": {},
   "outputs": [],
   "source": [
    "pipe = Pipeline([\n",
    "    (\"scaler\", StandardScaler()),\n",
    "    (\"ploynomial\", PolynomialFeatures()),\n",
    "    (\"rfecv\", RFECV(estimator=SVC(kernel='linear'), step=1, cv=StratifiedKFold(2),\n",
    "                    scoring='accuracy',\n",
    "                    min_features_to_select=min_features_to_select))])\n",
    "param_grid = {\n",
    "    'scaler': [StandardScaler(), MinMaxScaler()],\n",
    "    'ploynomial': [PolynomialFeatures(), None],\n",
    "    'rfecv__estimator__C': [0.001, 0.1, 1.0, 2.5, 5, 10.0],\n",
    "    # TODO: Issue with kernel params, pipelines, and gridsearch\n",
    "    #'rfecv__estimator__kernel': ['rbf', 'poly', 'linear'],\n",
    "    'rfecv__estimator__shrinking': [True, False],\n",
    "}\n",
    "search = GridSearchCV(pipe, param_grid, cv=StratifiedKFold(2), n_jobs=-1, refit=True)"
   ]
  },
  {
   "cell_type": "code",
   "execution_count": 15,
   "id": "22efc948-fc12-4334-8c72-a8adb621287a",
   "metadata": {},
   "outputs": [
    {
     "name": "stdout",
     "output_type": "stream",
     "text": [
      "CPU times: user 2min 17s, sys: 7min 24s, total: 9min 41s\n",
      "Wall time: 1min 17s\n"
     ]
    },
    {
     "data": {
      "text/plain": [
       "GridSearchCV(cv=StratifiedKFold(n_splits=2, random_state=None, shuffle=False),\n",
       "             estimator=Pipeline(steps=[('scaler', StandardScaler()),\n",
       "                                       ('ploynomial', PolynomialFeatures()),\n",
       "                                       ('rfecv',\n",
       "                                        RFECV(cv=StratifiedKFold(n_splits=2, random_state=None, shuffle=False),\n",
       "                                              estimator=SVC(kernel='linear'),\n",
       "                                              scoring='accuracy'))]),\n",
       "             n_jobs=-1,\n",
       "             param_grid={'ploynomial': [PolynomialFeatures(), None],\n",
       "                         'rfecv__estimator__C': [0.001, 0.1, 1.0, 2.5, 5, 10.0],\n",
       "                         'rfecv__estimator__shrinking': [True, False],\n",
       "                         'scaler': [StandardScaler(), MinMaxScaler()]})"
      ]
     },
     "execution_count": 15,
     "metadata": {},
     "output_type": "execute_result"
    }
   ],
   "source": [
    "%%time\n",
    "\n",
    "search.fit(X_train, y_train)"
   ]
  },
  {
   "cell_type": "code",
   "execution_count": 16,
   "id": "82ec931d-fad8-4862-9b30-636b34810204",
   "metadata": {},
   "outputs": [
    {
     "data": {
      "text/plain": [
       "({'ploynomial': PolynomialFeatures(),\n",
       "  'rfecv__estimator__C': 5,\n",
       "  'rfecv__estimator__shrinking': True,\n",
       "  'scaler': StandardScaler()},\n",
       " 0.8213333333333332)"
      ]
     },
     "execution_count": 16,
     "metadata": {},
     "output_type": "execute_result"
    }
   ],
   "source": [
    "search.best_params_, search.best_score_"
   ]
  },
  {
   "cell_type": "markdown",
   "id": "88256071-0370-42f3-bdf6-72c0ce613419",
   "metadata": {},
   "source": [
    "## Evaluate Candidate"
   ]
  },
  {
   "cell_type": "code",
   "execution_count": 17,
   "id": "603cd8c4-c722-4dae-b25c-248c25cc92ae",
   "metadata": {},
   "outputs": [
    {
     "data": {
      "text/plain": [
       "Pipeline(steps=[('scaler', StandardScaler()),\n",
       "                ('ploynomial', PolynomialFeatures()),\n",
       "                ('rfecv',\n",
       "                 RFECV(cv=StratifiedKFold(n_splits=2, random_state=None, shuffle=False),\n",
       "                       estimator=SVC(C=5, kernel='linear'),\n",
       "                       scoring='accuracy'))])"
      ]
     },
     "execution_count": 17,
     "metadata": {},
     "output_type": "execute_result"
    }
   ],
   "source": [
    "best = search.best_estimator_\n",
    "best"
   ]
  },
  {
   "cell_type": "code",
   "execution_count": 18,
   "id": "1aa5b310-0b11-43cb-ab3b-5eb23e16a260",
   "metadata": {},
   "outputs": [
    {
     "data": {
      "text/plain": [
       "0.848"
      ]
     },
     "execution_count": 18,
     "metadata": {},
     "output_type": "execute_result"
    }
   ],
   "source": [
    "best.score(X_test, y_test)"
   ]
  },
  {
   "cell_type": "code",
   "execution_count": 19,
   "id": "76f825b1-87fa-4cee-a09d-46bc69fc240f",
   "metadata": {},
   "outputs": [
    {
     "data": {
      "image/png": "[encoded data removed]",
      "text/plain": [
       "<Figure size 432x288 with 2 Axes>"
      ]
     },
     "metadata": {
      "needs_background": "light"
     },
     "output_type": "display_data"
    }
   ],
   "source": [
    "from sklearn.metrics import plot_confusion_matrix\n",
    "\n",
    "plot_confusion_matrix(best, X_test, y_test, cmap='gray_r')\n",
    "plt.show()"
   ]
  },
  {
   "cell_type": "code",
   "execution_count": 20,
   "id": "ee23aaca-8a00-418c-b370-506e0a5da92b",
   "metadata": {},
   "outputs": [
    {
     "name": "stdout",
     "output_type": "stream",
     "text": [
      "              precision    recall  f1-score   support\n",
      "\n",
      "           0       0.96      0.83      0.89        29\n",
      "           1       0.83      0.97      0.89        30\n",
      "           2       0.80      0.75      0.77        32\n",
      "           3       0.81      0.81      0.81        31\n",
      "           4       0.93      0.90      0.92        30\n",
      "           5       0.86      0.79      0.83        39\n",
      "           6       0.79      0.96      0.87        27\n",
      "           7       0.84      0.81      0.83        32\n",
      "\n",
      "    accuracy                           0.85       250\n",
      "   macro avg       0.85      0.85      0.85       250\n",
      "weighted avg       0.85      0.85      0.85       250\n",
      "\n"
     ]
    }
   ],
   "source": [
    "from sklearn.metrics import classification_report\n",
    "\n",
    "pred = best.predict(X_test)\n",
    "\n",
    "print(classification_report(y_test, pred))"
   ]
  },
  {
   "cell_type": "code",
   "execution_count": null,
   "id": "c25a2b3f-8d79-4831-b193-702ef9e89f30",
   "metadata": {},
   "outputs": [],
   "source": []
  }
 ],
 "metadata": {
  "kernelspec": {
   "display_name": "Python 3 (ipykernel)",
   "language": "python",
   "name": "python3"
  },
  "language_info": {
   "codemirror_mode": {
    "name": "ipython",
    "version": 3
   },
   "file_extension": ".py",
   "mimetype": "text/x-python",
   "name": "python",
   "nbconvert_exporter": "python",
   "pygments_lexer": "ipython3",
   "version": "3.8.11"
  }
 },
 "nbformat": 4,
 "nbformat_minor": 5
}
